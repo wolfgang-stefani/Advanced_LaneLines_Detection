{
 "cells": [
  {
   "cell_type": "markdown",
   "metadata": {},
   "source": [
    "# Advanced Lane Finding Project\n",
    "\n",
    "The steps of this project are the following:\n",
    "\n",
    "* Compute the camera calibration matrix and distortion coefficients given a set of chessboard images.\n",
    "* Apply a distortion correction to raw images.\n",
    "* Use color transforms, gradients, etc., to create a thresholded binary image.\n",
    "* Apply a perspective transform to rectify (dt. ausrichten) binary image (\"birds-eye view\").\n",
    "* Detect lane pixels and fit to find the lane boundary.\n",
    "* Determine the curvature of the lane and vehicle position with respect to center.\n",
    "* Warp the detected lane boundaries back onto the original image.\n",
    "* Output visual display of the lane boundaries and numerical estimation of lane curvature and vehicle position."
   ]
  },
  {
   "cell_type": "markdown",
   "metadata": {},
   "source": [
    "## Import Packages"
   ]
  },
  {
   "cell_type": "code",
   "execution_count": 1,
   "metadata": {},
   "outputs": [],
   "source": [
    "#importing some useful packages\n",
    "\n",
    "%matplotlib inline\n",
    "import matplotlib.pyplot as plt\n",
    "import matplotlib.image as mpimg\n",
    "import numpy as np\n",
    "import cv2\n",
    "import math\n",
    "import glob # glob API for importing list of (calibration) images\n",
    "from line import * # import class Line() from line.py"
   ]
  },
  {
   "cell_type": "markdown",
   "metadata": {},
   "source": [
    "## Camera calibration using chessboard images"
   ]
  },
  {
   "cell_type": "code",
   "execution_count": 2,
   "metadata": {},
   "outputs": [],
   "source": [
    "# prepare object points, like (0,0,0), (1,0,0), (2,0,0) ....,(6,5,0)\n",
    "objp = np.zeros((6*9,3), np.float32) \n",
    "objp[:,:2] = np.mgrid[0:9,0:6].T.reshape(-1,2) # nx=9 and ny=6\n",
    "\n",
    "# Arrays to store object points and image points from all the images.\n",
    "objpoints = [] # 3d points in real world space\n",
    "imgpoints = [] # 2d points in image plane.\n",
    "\n",
    "# Make a list of calibration images\n",
    "images = glob.glob('camera_cal/calibration*.jpg') # importing the glob API\n",
    "\n",
    "# print(images[0]) # DEBUG\n",
    "\n",
    "# Step through the list and search for chessboard corners and if found, add object and image points (needed later in cv.calibrateCamera())\n",
    "for fname in images:\n",
    "    img = plt.imread(fname)\n",
    "    # no cv2.undistort(img, mtx, dist, None) here because cal images are not distorted (only the first one a little bit maybe)\n",
    "    gray = cv2.cvtColor(img,cv2.COLOR_BGR2GRAY) # why? to find corners easily in the next step\n",
    "                                                # if you are using cv2.imread() or the glob API, as happens here,\n",
    "                                                # this will read in a BGR image and you should convert to grayscale\n",
    "                                                # using cv2.COLOR_BGR2GRAY.\n",
    "\n",
    "    # Find the chessboard corners\n",
    "    ret, corners = cv2.findChessboardCorners(gray, (9,6),None) # nx=9 and ny=6 (ret=return)\n",
    "\n",
    "    # If found, add object points, image points\n",
    "    if ret == True:\n",
    "        #print(objp) #DEBUG\n",
    "        objpoints.append(objp) # für jedes Bild in der for-Schleife wird dasselbe array (objp) hinzugefügt\n",
    "        imgpoints.append(corners)\n",
    "\n",
    "        # Draw and display the corners (this is not necessary but helpful for demonstration purposes)\n",
    "        # img = cv2.drawChessboardCorners(img, (9,6), corners, ret)\n",
    "        # plt.imshow(img)\n",
    "\n",
    "# Perform camera calibration\n",
    "ret, mtx, dist, rvecs, tvecs = cv2.calibrateCamera(objpoints, imgpoints, img.shape[1:], None, None)"
   ]
  },
  {
   "cell_type": "markdown",
   "metadata": {},
   "source": [
    "## Helper functions (for both pipelines)"
   ]
  },
  {
   "cell_type": "code",
   "execution_count": null,
   "metadata": {},
   "outputs": [],
   "source": [
    "# function that takes an image, object points, and image points, performs the camera calibration, image distortion correction\n",
    "# and returns the undistorted image\n",
    "def cal_undistort(img, objpoints, imgpoints):\n",
    "    undist = cv2.undistort(img, mtx, dist, None, mtx)  # undist war im Kurs dst (destination)\n",
    "    return undist\n",
    "\n",
    "def warp(img, nx, ny, mtx, dist): # to warp >> dt. (ver-)drehen, warped\n",
    "    # define 4 source points src = np.float32([[,],[,],[,],[,]])\n",
    "    # Note: you could pick any four of the detected corners as long as those four corners define a rectangle.\n",
    "    # One especially smart way to do this would be to use four well-chosen corners that were automatically detected\n",
    "    # during the undistortion steps.\n",
    "    \n",
    "    \n",
    "    src = np.float32([[  100.,   719.],  # Links unten\n",
    "                      [  542.,   470.],  # Links oben\n",
    "                      [  738.,   470.],  # Rechts oben\n",
    "                      [ 1180.,   719.]]) # Rechts unten\n",
    "    \n",
    "    \n",
    "    '''\n",
    "    source points for A99Munich test videos\n",
    "    src = np.float32([[  235.,   719.], \n",
    "                      [  580.,   536.],\n",
    "                      [  688.,   536.],\n",
    "                      [ 1003.,   719.]])\n",
    "    '''\n",
    "        \n",
    "    # define 4 destination points dst = np.float32([[,],[,],[,],[,]])\n",
    "    \n",
    "    dst = np.float32([[ 200.,  720.],\n",
    "                      [ 200.,    0.],\n",
    "                      [ 1080.,    0.],\n",
    "                      [ 1080.,  720.]])\n",
    "    \n",
    "        \n",
    "    # use cv2.getPerspectiveTransform() to get M, the transform matrix\n",
    "    M = cv2.getPerspectiveTransform(src, dst)\n",
    "    Minv = cv2.getPerspectiveTransform(dst, src)\n",
    "    \n",
    "    # use cv2.warpPerspective() to warp your image to a top-down view\n",
    "    img_size = (img.shape[1], img.shape[0])\n",
    "    warped = cv2.warpPerspective(img, M, img_size)\n",
    "        \n",
    "    return warped, M, Minv\n",
    "\n",
    "def threshold(img, s_thresh=(170, 255), sx_thresh=(20, 100)):\n",
    "    \n",
    "    img = np.copy(img)\n",
    "    # Convert to HLS color space and separate the V channel\n",
    "    # Note: img is the undistorted image\n",
    "    hls = cv2.cvtColor(img, cv2.COLOR_RGB2HLS)\n",
    "    l_channel = hls[:,:,1]\n",
    "    s_channel = hls[:,:,2]\n",
    "    \n",
    "    # Grayscale image? No! Why? Single color needed to calculate derivatives >> \"single color\" can also mean h-/l- or s-channel! \n",
    "    # We already saw that standard grayscaling lost color information for the lane lines. This is while we do not grayscale.\n",
    "    # Exploring gradients in other colors spaces / color channels shows that l-channel works better\n",
    "        \n",
    "    # Sobel x (identifies vertical edges)\n",
    "    sobelx = cv2.Sobel(l_channel, cv2.CV_64F, 1, 0) # Take the derivative in x\n",
    "    abs_sobelx = np.absolute(sobelx) # Absolute x derivative to accentuate lines away from horizontal\n",
    "    scaled_sobel = np.uint8(255*abs_sobelx/np.max(abs_sobelx))\n",
    "    \n",
    "    # Threshold x gradient (Sobel x) # threshold means as much as creating a binary by means of thresholds\n",
    "    sxbinary = np.zeros_like(scaled_sobel)\n",
    "    sxbinary[(scaled_sobel >= sx_thresh[0]) & (scaled_sobel <= sx_thresh[1])] = 1\n",
    "    \n",
    "    # Threshold color channel\n",
    "    s_binary = np.zeros_like(s_channel)\n",
    "    s_binary[(s_channel >= s_thresh[0]) & (s_channel <= s_thresh[1])] = 1\n",
    "    \n",
    "    # Stack each channel to view their individual contributions in green and blue respectively\n",
    "    # This returns a stack of the two binary images, whose components you can see as different color\n",
    "    # The green is the gradient threshold component and the blue is the color channel threshold component\n",
    "    color_binary = np.dstack((np.zeros_like(sxbinary), sxbinary, s_binary)) * 255\n",
    "    \n",
    "    return color_binary\n",
    "\n",
    "def find_lane_pixels(binary_warped):\n",
    "    \n",
    "    '''\n",
    "    Findet mit der sliding windows Methode die Pixel im binary_warped, die zu den Spurlinien gehören und gibt sie wie folgt aus:\n",
    "    \n",
    "    leftx >> [308 309 310 ...362 363 364] Liste der x-Koordinaten von Pixeln, die zur left lane gehören müssten\n",
    "    lefty >> [640 640 640 ... 159 159 159] List der y-Koordinaten von Pixeln, die zur right lane gehören müssten\n",
    "    rightx >> []\n",
    "    righty >> []\n",
    "    \n",
    "    Außerdem werden auf das Input-Bild die sliding windows (grüner Rahmen) gezeichnet.\n",
    "    \n",
    "    '''\n",
    "    \n",
    "    # Take a histogram of the bottom half of the image\n",
    "    histogram = np.sum(binary_warped[binary_warped.shape[0]//2:,:], axis=0)\n",
    "    # Create an output image to draw on and visualize the result\n",
    "    out_img = np.dstack((binary_warped, binary_warped, binary_warped))\n",
    "    # Find the peak of the left and right halves of the histogram\n",
    "    # These will be the starting point for the left and right lines\n",
    "    midpoint = np.int(histogram.shape[0]//2)\n",
    "    leftx_base = np.argmax(histogram[:midpoint])\n",
    "    rightx_base = np.argmax(histogram[midpoint:]) + midpoint\n",
    "\n",
    "    # HYPERPARAMETERS\n",
    "    # Choose the number of sliding windows\n",
    "    nwindows = 9\n",
    "    # Set the width of the windows +/- margin\n",
    "    margin = 100\n",
    "    # Set minimum number of pixels found to recenter window\n",
    "    minpix = 50\n",
    "\n",
    "    # Set height of windows - based on nwindows and image shape\n",
    "    window_height = np.int(binary_warped.shape[0]//nwindows)\n",
    "    # Identify the x and y positions of all nonzero pixels in the image\n",
    "    nonzero = binary_warped.nonzero()\n",
    "    nonzeroy = np.array(nonzero[0])\n",
    "    nonzerox = np.array(nonzero[1])\n",
    "    # Current positions to be updated later for each window in nwindows\n",
    "    leftx_current = leftx_base\n",
    "    rightx_current = rightx_base\n",
    "\n",
    "    # Create empty lists to receive left and right lane pixel indices\n",
    "    left_lane_inds = []\n",
    "    right_lane_inds = []\n",
    "\n",
    "    # Step through the windows one by one\n",
    "    for window in range(nwindows):\n",
    "        # Identify window boundaries in x and y (and right and left)\n",
    "        win_y_low = binary_warped.shape[0] - (window+1)*window_height\n",
    "        win_y_high = binary_warped.shape[0] - window*window_height\n",
    "        win_xleft_low = leftx_current - margin\n",
    "        win_xleft_high = leftx_current + margin\n",
    "        win_xright_low = rightx_current - margin\n",
    "        win_xright_high = rightx_current + margin\n",
    "        \n",
    "        # Draw the windows on the visualization image\n",
    "        cv2.rectangle(out_img,(win_xleft_low,win_y_low),(win_xleft_high,win_y_high),(0,255,0), 2) \n",
    "        cv2.rectangle(out_img,(win_xright_low,win_y_low),(win_xright_high,win_y_high),(0,255,0), 2) \n",
    "        \n",
    "        # Identify the nonzero pixels in x and y within the window #\n",
    "        good_left_inds = ((nonzeroy >= win_y_low) & (nonzeroy < win_y_high) & \n",
    "        (nonzerox >= win_xleft_low) &  (nonzerox < win_xleft_high)).nonzero()[0]\n",
    "        good_right_inds = ((nonzeroy >= win_y_low) & (nonzeroy < win_y_high) & \n",
    "        (nonzerox >= win_xright_low) &  (nonzerox < win_xright_high)).nonzero()[0]\n",
    "        \n",
    "        # Append these indices to the lists\n",
    "        left_lane_inds.append(good_left_inds)\n",
    "        right_lane_inds.append(good_right_inds)\n",
    "        \n",
    "        # If you found > minpix pixels, recenter next window on their mean position\n",
    "        if len(good_left_inds) > minpix:\n",
    "            leftx_current = np.int(np.mean(nonzerox[good_left_inds]))\n",
    "        if len(good_right_inds) > minpix:        \n",
    "            rightx_current = np.int(np.mean(nonzerox[good_right_inds]))\n",
    "\n",
    "    # Concatenate the arrays of indices (previously was a list of lists of pixels)\n",
    "    try:\n",
    "        left_lane_inds = np.concatenate(left_lane_inds)\n",
    "        #print(\"left_lane_inds: \", left_lane_inds, \"Liste der left lane pixel indices (nonzero pixels in x and y within the window)\")\n",
    "        right_lane_inds = np.concatenate(right_lane_inds)\n",
    "    except ValueError:\n",
    "        # Avoids an error if the above is not implemented fully\n",
    "        pass\n",
    "\n",
    "    # Extract left and right line pixel positions\n",
    "    leftx = nonzerox[left_lane_inds]\n",
    "    print(\"leftx: \", leftx)\n",
    "    lefty = nonzeroy[left_lane_inds]\n",
    "    print(\"lefty: \", lefty)\n",
    "    rightx = nonzerox[right_lane_inds]\n",
    "    righty = nonzeroy[right_lane_inds]\n",
    "\n",
    "    return leftx, lefty, rightx, righty, out_img\n",
    "\n",
    "\n",
    "def fit_polynomial(binary_warped):\n",
    "    \n",
    "    '''\n",
    "    Die Polynomfunktion wird ermittelt (np.polyfit()) und die sich daraus ergebende Linie gelb eingezeichnet in das Input-image.\n",
    "    Außerdem werden die zu Beginn der function ermittelten lane pixels rot (left lane) bzw. blau (right lane) eingefärbt.\n",
    "    (Das Zeichnen der windows (grüner Rahmen) geschieht in der function find_lane_lines, die die sliding windows Methode nutzt.)\n",
    "    \n",
    "    \n",
    "    Mit Hilfe der Pixel, die zu den lane lines gehören müssten (diese werden durch Aufruf der Funktion find_lane_lines()\n",
    "    in dieser function nochmals separat ermittelt; Ergebnis z.B. leftx >> Liste mit den x-Koordinaten der left lane),\n",
    "    wird eine passende Polynomfunktion x = A*y**2 + B*y + C ermittelt (\"gefittet\"). Dabei sind:\n",
    "        \n",
    "        left_fit >> [A B C] Polynomkoeffizienten\n",
    "        right_fit >> dito\n",
    "        \n",
    "        ploty >> z.B. [0 1 2 3 4 ... 717 718 719] y-Koordinaten des Polynoms bzw. der sich daraus ergebenden Linie\n",
    "        \n",
    "        left_fitx >> z.B. [375 374,8 374,65 374,48 ... 319] x-Koordinaten des Polynoms bzw. der sich daraus ergebenden Kurve\n",
    "                  >> errechnet sich aus A*y**2 + B*y + C mit y = ploty\n",
    "        right_fitx >> dito\n",
    "        \n",
    "    '''\n",
    "    \n",
    "    \n",
    "    # Find our lane pixels first\n",
    "    leftx, lefty, rightx, righty, out_img = find_lane_pixels(binary_warped)\n",
    "\n",
    "    # Fit a second order polynomial to each using `np.polyfit`\n",
    "    left_fit = np.polyfit(lefty, leftx, 2) # left_fit beinhaltet die Koeffizienten A, B und C\n",
    "    print(\"left_fit: \", left_fit, \"Dies sind die Koeffizienten A, B und C\")\n",
    "    right_fit = np.polyfit(righty, rightx, 2)\n",
    "\n",
    "    # Generate x and y values for plotting\n",
    "    ploty = np.linspace(0, binary_warped.shape[0]-1, binary_warped.shape[0]) # ploty ist eine Liste von [0 1 2 .... 719]\n",
    "    try:\n",
    "        left_fitx = left_fit[0]*ploty**2 + left_fit[1]*ploty + left_fit[2] # left_fitx ist die gesamte Funktion (x = A*y**2 + B*y + C) des gefundenen, passenden Polynoms \"fit\"\n",
    "        print(\"left_fitx: \", left_fitx)\n",
    "        right_fitx = right_fit[0]*ploty**2 + right_fit[1]*ploty + right_fit[2]\n",
    "    except TypeError:\n",
    "        # Avoids an error if `left` and `right_fit` are still none or incorrect\n",
    "        print('The function failed to fit a line!')\n",
    "        left_fitx = 1*ploty**2 + 1*ploty\n",
    "        right_fitx = 1*ploty**2 + 1*ploty\n",
    "\n",
    "    ## Visualization ##\n",
    "    # Colors in the left and right lane regions\n",
    "    out_img[lefty, leftx] = [255, 0, 0] # Pixel der left lane werden rot dargestellt, Pixel der right lane blau\n",
    "    out_img[righty, rightx] = [0, 0, 255]\n",
    "\n",
    "    # Plots the left and right polynomials on the lane lines\n",
    "    plt.plot(left_fitx, ploty, color='yellow') # x-Koordinaten des Polynoms (left_fitx) und y-Koordinaten des Polynoms (ploty) zum Plotten\n",
    "    plt.plot(right_fitx, ploty, color='yellow')\n",
    "\n",
    "    #return out_img\n",
    "    return out_img, left_fit, right_fit\n",
    "    \n",
    "def fit_poly(img_shape, leftx, lefty, rightx, righty):\n",
    "    \n",
    "    '''\n",
    "    Was ist der Unterschied zur function fit_polynomial()?\n",
    "    Gemeinsamkeit: Auch hier wird wieder die Polynomfunktion mit np.polyfit() ermittelt: z.B. left_fit >> [A B C] Polynomkoeff. \n",
    "    Auch hier werden wieder x- und y-Werte generiert, um sie zu plotten, z.B. ploty\n",
    "    \n",
    "    Der entscheidende Unterschied ist der Input der Funktion! Kein Bild wird an die Funktion übergeben sondern direkt die Werte,\n",
    "    die sich aus der function find_lane_pixels() ergeben. \n",
    "    Neue Idee: Wieso nicht innerhalb dieser function diese Werte durch Aufrufen von find_lane_pixels() ermitteln?\n",
    "    \n",
    "    Auch der Output ist anders. \n",
    "    \n",
    "    '''\n",
    "    \n",
    "    \n",
    "    # Fit a second order polynomial to each line with np.polyfit()\n",
    "    left_fit = np.polyfit(lefty, leftx, 2)\n",
    "    right_fit = np.polyfit(righty, rightx, 2)\n",
    "    \n",
    "    # Generate x and y values for plotting\n",
    "    ploty = np.linspace(0, img_shape[0]-1, img_shape[0])\n",
    "    \n",
    "    # Calc both polynomials using ploty, left_fit and right_fit\n",
    "    left_fitx = left_fit[0]*ploty**2 + left_fit[1]*ploty + left_fit[2]\n",
    "    right_fitx = right_fit[0]*ploty**2 + right_fit[1]*ploty + right_fit[2]\n",
    "    \n",
    "    return left_fitx, right_fitx, ploty\n",
    "\n",
    "def search_around_poly(binary_warped, left_fit, right_fit):\n",
    "    \n",
    "    # width of the margin around the previous polynomial to search\n",
    "    margin = 50\n",
    "\n",
    "    # Grab activated pixels\n",
    "    nonzero = binary_warped.nonzero()\n",
    "    nonzeroy = np.array(nonzero[0])\n",
    "    nonzerox = np.array(nonzero[1])\n",
    "    \n",
    "    #Set the area of search based on activated x-values within the +/- margin of our polynomial function\n",
    "    left_lane_inds = ((nonzerox > (left_fit[0]*(nonzeroy**2) + left_fit[1]*nonzeroy + \n",
    "                    left_fit[2] - margin)) & (nonzerox < (left_fit[0]*(nonzeroy**2) + \n",
    "                    left_fit[1]*nonzeroy + left_fit[2] + margin)))\n",
    "    right_lane_inds = ((nonzerox > (right_fit[0]*(nonzeroy**2) + right_fit[1]*nonzeroy + \n",
    "                    right_fit[2] - margin)) & (nonzerox < (right_fit[0]*(nonzeroy**2) + \n",
    "                    right_fit[1]*nonzeroy + right_fit[2] + margin)))\n",
    "    \n",
    "    # extract left and right line pixel positions\n",
    "    leftx = nonzerox[left_lane_inds]\n",
    "    lefty = nonzeroy[left_lane_inds] \n",
    "    rightx = nonzerox[right_lane_inds]\n",
    "    righty = nonzeroy[right_lane_inds]\n",
    "\n",
    "    # Fit new polynomials\n",
    "    left_fitx, right_fitx, ploty = fit_poly(binary_warped.shape, leftx, lefty, rightx, righty)\n",
    "    \n",
    "    \n",
    "    \n",
    "    ## Visualization ##\n",
    "    # Create an image to draw on and an image to show the selection window\n",
    "    out_img = np.dstack((binary_warped, binary_warped, binary_warped))*255\n",
    "    window_img = np.zeros_like(out_img)\n",
    "    # Color in left and right line pixels\n",
    "    out_img[nonzeroy[left_lane_inds], nonzerox[left_lane_inds]] = [255, 0, 0]\n",
    "    out_img[nonzeroy[right_lane_inds], nonzerox[right_lane_inds]] = [0, 0, 255]\n",
    "\n",
    "    # Generate a polygon to illustrate the search window area\n",
    "    # And recast the x and y points into usable format for cv2.fillPoly()\n",
    "    left_line_window1 = np.array([np.transpose(np.vstack([left_fitx-margin, ploty]))])\n",
    "    left_line_window2 = np.array([np.flipud(np.transpose(np.vstack([left_fitx+margin, \n",
    "                              ploty])))])\n",
    "    left_line_pts = np.hstack((left_line_window1, left_line_window2))\n",
    "    right_line_window1 = np.array([np.transpose(np.vstack([right_fitx-margin, ploty]))])\n",
    "    right_line_window2 = np.array([np.flipud(np.transpose(np.vstack([right_fitx+margin, \n",
    "                              ploty])))])\n",
    "    right_line_pts = np.hstack((right_line_window1, right_line_window2))\n",
    "\n",
    "    # Draw the lane onto the warped blank image\n",
    "    cv2.fillPoly(window_img, np.int_([left_line_pts]), (0,255, 0))\n",
    "    cv2.fillPoly(window_img, np.int_([right_line_pts]), (0,255, 0))\n",
    "    result = cv2.addWeighted(out_img, 1, window_img, 0.3, 0)\n",
    "    \n",
    "    # Plot the polynomial lines onto the image\n",
    "    plt.plot(left_fitx, ploty, color='yellow')\n",
    "    plt.plot(right_fitx, ploty, color='yellow')\n",
    "    ## End visualization steps ##\n",
    "    \n",
    "    return result\n",
    "\n",
    "def measure_curvature_real(ploty, left_fit, right_fit):\n",
    "    \n",
    "    '''\n",
    "    Calculates the curvature of polynomial functions in meters.\n",
    "    '''\n",
    "    \n",
    "    # Define conversions in x and y from pixels space to meters\n",
    "    ym_per_pix = 30/720 # meters per pixel in y dimension\n",
    "    xm_per_pix = 3.7/700 # meters per pixel in x dimension\n",
    "    \n",
    "    # Define y-value where we want radius of curvature\n",
    "    # We'll choose the maximum y-value, corresponding to the bottom of the image\n",
    "    y_eval = np.max(ploty)\n",
    "    \n",
    "    # Calculation of R_curve (radius of curvature)\n",
    "    left_curverad = ((1 + (2*left_fit[0]*y_eval*ym_per_pix + left_fit[1])**2)**1.5) / np.absolute(2*left_fit[0])\n",
    "    right_curverad = ((1 + (2*right_fit[0]*y_eval*ym_per_pix + right_fit[1])**2)**1.5) / np.absolute(2*right_fit[0])\n",
    "    \n",
    "    return left_curverad, right_curverad"
   ]
  },
  {
   "cell_type": "markdown",
   "metadata": {},
   "source": [
    "## Pipeline (test images)"
   ]
  },
  {
   "cell_type": "markdown",
   "metadata": {},
   "source": [
    "### Read in an image"
   ]
  },
  {
   "cell_type": "code",
   "execution_count": null,
   "metadata": {},
   "outputs": [],
   "source": [
    "#reading in an image\n",
    "#img = mpimg.imread('test_images/signs_vehicles_xygrad.png')\n",
    "#img = mpimg.imread('test_images/straight_lines1.jpg')\n",
    "#img = mpimg.imread('test_images/straight_lines2.jpg')\n",
    "img = mpimg.imread('test_images/test1.jpg')\n",
    "#img = mpimg.imread('test_images/test2.jpg')\n",
    "#img = mpimg.imread('test_images/test3.jpg')\n",
    "#img = mpimg.imread('test_images/test4.jpg')\n",
    "#img = mpimg.imread('test_images/test5.jpg')\n",
    "#img = mpimg.imread('test_images/test6.jpg')\n",
    "#img = mpimg.imread('test_images/test_A99Munich_1.jpg')\n",
    "\n",
    "# ATTENTION: If you are using cv2.imread() or the glob API, this will read in a BGR image and you should convert to grayscale\n",
    "# (in later image processing steps) using cv2.COLOR_BGR2GRAY.\n",
    "\n",
    "#printing out some stats and plotting\n",
    "print('This image is:', type(img), 'with dimensions:', img.shape)\n",
    "plt.imshow(img)  # single color channel image, e.g. gray , call as plt.imshow(gray, cmap='gray')"
   ]
  },
  {
   "cell_type": "markdown",
   "metadata": {},
   "source": [
    "### Distortion correction"
   ]
  },
  {
   "cell_type": "code",
   "execution_count": null,
   "metadata": {},
   "outputs": [],
   "source": [
    "undist = cal_undistort(img, objpoints, imgpoints)\n",
    "plt.imshow(undist)"
   ]
  },
  {
   "cell_type": "markdown",
   "metadata": {},
   "source": [
    "### Color & Gradient Threshold"
   ]
  },
  {
   "cell_type": "code",
   "execution_count": null,
   "metadata": {},
   "outputs": [],
   "source": [
    "thresholded = threshold(undist)\n",
    "plt.imshow(thresholded)"
   ]
  },
  {
   "cell_type": "markdown",
   "metadata": {},
   "source": [
    "### Perspective Transform to \"birds-eye view\""
   ]
  },
  {
   "cell_type": "code",
   "execution_count": null,
   "metadata": {},
   "outputs": [],
   "source": [
    "top_down, perspective_M, perspective_Minv = warp(thresholded, 9, 6, mtx, dist)\n",
    "plt.imshow(top_down)"
   ]
  },
  {
   "cell_type": "markdown",
   "metadata": {},
   "source": [
    "### Detect lane pixels implementing sliding windows and fit a polynomial to find the lane boundary"
   ]
  },
  {
   "cell_type": "code",
   "execution_count": null,
   "metadata": {},
   "outputs": [],
   "source": [
    "binary_warped = cv2.cvtColor(top_down, cv2.COLOR_BGR2GRAY) # binary_warped entspricht top_down in grau\n",
    "left_lane = Line() # create/initiate object called left_lane with class Line() from line.py\n",
    "right_lane = Line()\n",
    "out_img = fit_polynomial(binary_warped)\n",
    "plt.imshow(out_img)"
   ]
  },
  {
   "cell_type": "markdown",
   "metadata": {},
   "source": [
    "### Skip the sliding windows step once you've found the lines / Search from prior"
   ]
  },
  {
   "cell_type": "code",
   "execution_count": null,
   "metadata": {},
   "outputs": [],
   "source": [
    "# Polynomial fit values from the previous frame\n",
    "# Make sure to grab the actual values from the previous step in your project\n",
    "leftx, lefty, rightx, righty, out_img = find_lane_pixels(binary_warped) # muss hier für die nächsten beiden Schritte errechnet werden\n",
    "left_fit = np.polyfit(lefty, leftx, 2) # muss hier nochmal explizit errechnet werden, da es vorher nur innerhalb fit_polynomial() berechnet wurde (lokale Variable)\n",
    "right_fit = np.polyfit(righty, rightx, 2) # dito\n",
    "\n",
    "# Run image through the pipeline\n",
    "out_img2 = search_around_poly(binary_warped, left_fit, right_fit)\n",
    "\n",
    "# View your output\n",
    "plt.imshow(out_img2)"
   ]
  },
  {
   "cell_type": "markdown",
   "metadata": {},
   "source": [
    "### Determine the curvature of the lane and vehicle position with respect to center"
   ]
  },
  {
   "cell_type": "code",
   "execution_count": null,
   "metadata": {},
   "outputs": [],
   "source": [
    "# Calculate the radius of curvature in meters for both lane lines\n",
    "left_fitx, right_fitx, ploty = fit_poly(binary_warped.shape, leftx, lefty, rightx, righty) # only calculated for ploty \n",
    "left_curverad, right_curverad = measure_curvature_real(ploty, left_fit, right_fit)\n",
    "\n",
    "print(left_curverad, 'm', right_curverad, 'm')"
   ]
  },
  {
   "cell_type": "markdown",
   "metadata": {},
   "source": [
    "### Drawing"
   ]
  },
  {
   "cell_type": "code",
   "execution_count": null,
   "metadata": {},
   "outputs": [],
   "source": [
    "# Create an image to draw the lines on\n",
    "warp_zero = np.zeros_like(binary_warped).astype(np.uint8)\n",
    "color_warp = np.dstack((warp_zero, warp_zero, warp_zero))\n",
    "\n",
    "# Recast the x and y points into usable format for cv2.fillPoly()\n",
    "pts_left = np.array([np.transpose(np.vstack([left_fitx, ploty]))])\n",
    "pts_right = np.array([np.flipud(np.transpose(np.vstack([right_fitx, ploty])))])\n",
    "pts = np.hstack((pts_left, pts_right))\n",
    "\n",
    "# Draw the lane onto the warped blank image\n",
    "cv2.fillPoly(color_warp, np.int_([pts]), (0,255, 0))\n",
    "\n",
    "# Warp the blank back to original image space using inverse perspective matrix (Minv)\n",
    "Minv = perspective_Minv\n",
    "newwarp = cv2.warpPerspective(color_warp, Minv, (img.shape[1], img.shape[0])) \n",
    "# Combine the result with the original image\n",
    "result2 = cv2.addWeighted(undist, 1, newwarp, 0.3, 0)\n",
    "plt.imshow(result2)"
   ]
  },
  {
   "cell_type": "markdown",
   "metadata": {},
   "source": [
    "### Optional 2: Total pipeline in one code snippet"
   ]
  },
  {
   "cell_type": "code",
   "execution_count": null,
   "metadata": {},
   "outputs": [],
   "source": [
    "#reading in an image\n",
    "img = mpimg.imread('test_images/test1.jpg')\n",
    "\n",
    "undist = cal_undistort(img, objpoints, imgpoints)\n",
    "\n",
    "thresholded = pipeline(undist)\n",
    "\n",
    "top_down, perspective_M, perspective_Minv = warp(thresholded, 9, 6, mtx, dist)\n",
    "\n",
    "binary_warped = cv2.cvtColor(top_down, cv2.COLOR_BGR2GRAY) # binary_warped entspricht top_down in grau\n",
    "\n",
    "out_img, left_fit, right_fit = fit_polynomial(binary_warped)\n",
    "\n",
    "# Load our image - this should be a new frame since last time!\n",
    "binary_warped = mpimg.imread('warped_example.jpg') # Wie kann man den nächsten Frame laden?\n",
    "\n",
    "# Polynomial fit values from the previous frame already loaded in line 12\n",
    "\n",
    "# Run image through the pipeline (Note that in your project, you'll also want to feed in the previous fits)\n",
    "result = search_around_poly(binary_warped)\n",
    "\n",
    "# View your output\n",
    "plt.imshow(result)"
   ]
  },
  {
   "cell_type": "markdown",
   "metadata": {},
   "source": [
    "### Optional: Total pipeline in one code snippet"
   ]
  },
  {
   "cell_type": "code",
   "execution_count": null,
   "metadata": {},
   "outputs": [],
   "source": [
    "### Start of pipeline\n",
    "\n",
    "#reading in an image\n",
    "#img = mpimg.imread('test_images/signs_vehicles_xygrad.png')\n",
    "#img = mpimg.imread('test_images/straight_lines1.jpg')\n",
    "#img = mpimg.imread('test_images/straight_lines2.jpg')\n",
    "#img = mpimg.imread('test_images/test1.jpg')\n",
    "#img = mpimg.imread('test_images/test2.jpg')\n",
    "#img = mpimg.imread('test_images/test3.jpg')\n",
    "#img = mpimg.imread('test_images/test4.jpg')\n",
    "#img = mpimg.imread('test_images/test5.jpg')\n",
    "#img = mpimg.imread('test_images/test6.jpg')\n",
    "img = mpimg.imread('test_images/test_A99Munich_1.jpg')\n",
    "\n",
    "# distortion correction\n",
    "undist = cal_undistort(img, objpoints, imgpoints)\n",
    "\n",
    "# color & gradient thresholding\n",
    "thresholded = pipeline(undist)\n",
    "\n",
    "# perspective transform to \"birds-eye view\"\n",
    "top_down, perspective_M, perspective_Minv = warp(thresholded, 9, 6, mtx, dist)\n",
    "\n",
    "# Detect lane pixels implementing sliding windows and fit a polynomial to find the lane boundary\n",
    "binary_warped = cv2.cvtColor(top_down, cv2.COLOR_BGR2GRAY) # binary_warped entspricht top_down in grau\n",
    "out_img = fit_polynomial(binary_warped)\n",
    "\n",
    "# Skip the sliding windows step once you've found the lines / Search from prior\n",
    "leftx, lefty, rightx, righty, out_img = find_lane_pixels(binary_warped) \n",
    "left_fit = np.polyfit(lefty, leftx, 2)\n",
    "right_fit = np.polyfit(righty, rightx, 2) # dito\n",
    "\n",
    "# Run image through the pipeline\n",
    "out_img2 = search_around_poly(binary_warped, left_fit, right_fit)\n",
    "\n",
    "# Create an image to draw the lines on\n",
    "warp_zero = np.zeros_like(binary_warped).astype(np.uint8)\n",
    "color_warp = np.dstack((warp_zero, warp_zero, warp_zero))\n",
    "\n",
    "# Recast the x and y points into usable format for cv2.fillPoly()\n",
    "pts_left = np.array([np.transpose(np.vstack([left_fitx, ploty]))])\n",
    "pts_right = np.array([np.flipud(np.transpose(np.vstack([right_fitx, ploty])))])\n",
    "pts = np.hstack((pts_left, pts_right))\n",
    "\n",
    "# Draw the lane onto the warped blank image\n",
    "cv2.fillPoly(color_warp, np.int_([pts]), (0,255, 0))\n",
    "\n",
    "# Warp the blank back to original image space using inverse perspective matrix (Minv)\n",
    "Minv = perspective_Minv\n",
    "newwarp = cv2.warpPerspective(color_warp, Minv, (img.shape[1], img.shape[0])) \n",
    "# Combine the result with the original image\n",
    "result = cv2.addWeighted(undist, 1, newwarp, 0.3, 0)\n",
    "plt.imshow(result)\n",
    "\n",
    "\n",
    "### End of pipeline\n",
    "\n",
    "# Plot the result (original image and processed image)\n",
    "f, (ax1, ax2) = plt.subplots(1, 2, figsize=(24, 9))\n",
    "f.tight_layout()\n",
    "\n",
    "ax1.imshow(img)\n",
    "ax1.set_title('Original Image', fontsize=40)\n",
    "\n",
    "ax2.imshow(result)\n",
    "ax2.set_title('Pipeline Result', fontsize=40)\n",
    "plt.subplots_adjust(left=0., right=1, top=0.9, bottom=0.)\n",
    "\n",
    "# Calculate the radius of curvature in meters for both lane lines\n",
    "left_fitx, right_fitx, ploty = fit_poly(binary_warped.shape, leftx, lefty, rightx, righty)\n",
    "left_curverad, right_curverad = measure_curvature_real(ploty, left_fit, right_fit)\n",
    "\n",
    "print(left_curverad, 'm', right_curverad, 'm')"
   ]
  },
  {
   "cell_type": "markdown",
   "metadata": {},
   "source": [
    "## Pipeline (video)"
   ]
  },
  {
   "cell_type": "code",
   "execution_count": null,
   "metadata": {},
   "outputs": [],
   "source": [
    "# Import everything needed to edit/save/watch video clips\n",
    "from moviepy.editor import VideoFileClip\n",
    "from IPython.display import HTML"
   ]
  },
  {
   "cell_type": "code",
   "execution_count": null,
   "metadata": {},
   "outputs": [],
   "source": [
    "def process_image(image):\n",
    "    '''\n",
    "    total pipeline from above as a function\n",
    "    '''\n",
    "    # distortion correction\n",
    "    undist = cal_undistort(image, objpoints, imgpoints)\n",
    "\n",
    "    # color & gradient thresholding\n",
    "    thresholded = pipeline(undist)\n",
    "\n",
    "    # perspective transform to \"birds-eye view\"\n",
    "    top_down, perspective_M, perspective_Minv = warp(thresholded, 9, 6, mtx, dist)\n",
    "\n",
    "    # Detect lane pixels implementing sliding windows and fit a polynomial to find the lane boundary\n",
    "    binary_warped = cv2.cvtColor(top_down, cv2.COLOR_BGR2GRAY) # binary_warped entspricht top_down in grau\n",
    "    out_img = fit_polynomial(binary_warped)\n",
    "\n",
    "    # Skip the sliding windows step once you've found the lines / Search from prior\n",
    "    leftx, lefty, rightx, righty, out_img = find_lane_pixels(binary_warped) \n",
    "    left_fit = np.polyfit(lefty, leftx, 2)\n",
    "    right_fit = np.polyfit(righty, rightx, 2) # dito\n",
    "\n",
    "    # Run image through the pipeline\n",
    "    out_img2 = search_around_poly(binary_warped, left_fit, right_fit)\n",
    "    \n",
    "    left_fitx, right_fitx, ploty = fit_poly(binary_warped.shape, leftx, lefty, rightx, righty)\n",
    "    \n",
    "    # Create an image to draw the lines on\n",
    "    warp_zero = np.zeros_like(binary_warped).astype(np.uint8)\n",
    "    color_warp = np.dstack((warp_zero, warp_zero, warp_zero))\n",
    "\n",
    "    # Recast the x and y points into usable format for cv2.fillPoly()\n",
    "    pts_left = np.array([np.transpose(np.vstack([left_fitx, ploty]))])\n",
    "    pts_right = np.array([np.flipud(np.transpose(np.vstack([right_fitx, ploty])))])\n",
    "    pts = np.hstack((pts_left, pts_right))\n",
    "\n",
    "    # Draw the lane onto the warped blank image\n",
    "    cv2.fillPoly(color_warp, np.int_([pts]), (0,255, 0))\n",
    "\n",
    "    # Warp the blank back to original image space using inverse perspective matrix (Minv)\n",
    "    Minv = perspective_Minv\n",
    "    newwarp = cv2.warpPerspective(color_warp, Minv, (img.shape[1], img.shape[0])) \n",
    "    # Combine the result with the original image\n",
    "    result = cv2.addWeighted(undist, 1, newwarp, 0.3, 0)\n",
    "    \n",
    "    return result"
   ]
  },
  {
   "cell_type": "markdown",
   "metadata": {},
   "source": [
    "### Testing on project video:"
   ]
  },
  {
   "cell_type": "code",
   "execution_count": null,
   "metadata": {},
   "outputs": [],
   "source": [
    "output = 'my_output1.mp4'\n",
    "## To speed up the testing process, try pipeline on a shorter subclip of the video (.subclip())\n",
    "#clip1 = VideoFileClip(\"project_video.mp4\").subclip(0,5) #.subclip(start_second,end_second)\n",
    "clip1 = VideoFileClip(\"project_video.mp4\")\n",
    "clip = clip1.fl_image(process_image) #NOTE: this function expects color images\n",
    "%time clip.write_videofile(output, audio=False)"
   ]
  },
  {
   "cell_type": "markdown",
   "metadata": {},
   "source": [
    "Play the video inline:"
   ]
  },
  {
   "cell_type": "code",
   "execution_count": null,
   "metadata": {},
   "outputs": [],
   "source": [
    "HTML(\"\"\"\n",
    "<video width=\"960\" height=\"540\" controls>\n",
    "  <source src=\"{0}\">\n",
    "</video>\n",
    "\"\"\".format(output))"
   ]
  },
  {
   "cell_type": "markdown",
   "metadata": {},
   "source": [
    "### Testing on challenge video"
   ]
  },
  {
   "cell_type": "code",
   "execution_count": null,
   "metadata": {},
   "outputs": [],
   "source": [
    "output2 = 'my_output2.mp4'\n",
    "## To speed up the testing process, try pipeline on a shorter subclip of the video (.subclip())\n",
    "clip1 = VideoFileClip(\"test_videos/challenge_video.mp4\")\n",
    "clip = clip1.fl_image(process_image)\n",
    "%time clip.write_videofile(output2, audio=False)"
   ]
  },
  {
   "cell_type": "code",
   "execution_count": null,
   "metadata": {},
   "outputs": [],
   "source": [
    "HTML(\"\"\"\n",
    "<video width=\"960\" height=\"540\" controls>\n",
    "  <source src=\"{0}\">\n",
    "</video>\n",
    "\"\"\".format(output2))"
   ]
  },
  {
   "cell_type": "markdown",
   "metadata": {},
   "source": [
    "### Testing on harder challenge video"
   ]
  },
  {
   "cell_type": "code",
   "execution_count": null,
   "metadata": {},
   "outputs": [],
   "source": [
    "output3 = 'my_output3.mp4'\n",
    "## To speed up the testing process, try pipeline on a shorter subclip of the video (.subclip())\n",
    "#clip1 = VideoFileClip(\"harder_challenge_video.mp4\").subclip(0,5) #.subclip(start_second,end_second)\n",
    "clip1 = VideoFileClip(\"harder_challenge_video.mp4\")\n",
    "clip = clip1.fl_image(process_image) #NOTE: this function expects color images\n",
    "%time clip.write_videofile(output3, audio=False)"
   ]
  },
  {
   "cell_type": "code",
   "execution_count": null,
   "metadata": {},
   "outputs": [],
   "source": [
    "HTML(\"\"\"\n",
    "<video width=\"960\" height=\"540\" controls>\n",
    "  <source src=\"{0}\">\n",
    "</video>\n",
    "\"\"\".format(output3))"
   ]
  },
  {
   "cell_type": "markdown",
   "metadata": {},
   "source": [
    "### Testing on german highway A99 in Munich (short version)"
   ]
  },
  {
   "cell_type": "code",
   "execution_count": null,
   "metadata": {},
   "outputs": [],
   "source": [
    "output4 = 'A99Munich_short_output.mp4'\n",
    "clip1 = VideoFileClip(\"test_videos/A99Munich_short.mp4\")\n",
    "clip = clip1.fl_image(process_image) #NOTE: this function expects color images\n",
    "%time clip.write_videofile(output4, audio=False)"
   ]
  },
  {
   "cell_type": "code",
   "execution_count": null,
   "metadata": {},
   "outputs": [],
   "source": [
    "HTML(\"\"\"\n",
    "<video width=\"960\" height=\"540\" controls>\n",
    "  <source src=\"{0}\">\n",
    "</video>\n",
    "\"\"\".format(output4))"
   ]
  },
  {
   "cell_type": "markdown",
   "metadata": {},
   "source": [
    "### Testing on german highway A99 in Munich (long version)"
   ]
  },
  {
   "cell_type": "code",
   "execution_count": null,
   "metadata": {},
   "outputs": [],
   "source": [
    "output5 = 'A99Munich_long_output.mp4'\n",
    "clip1 = VideoFileClip(\"test_videos/A99Munich_long.mp4\").subclip(83,103)\n",
    "clip = clip1.fl_image(process_image) #NOTE: this function expects color images\n",
    "%time clip.write_videofile(output5, audio=False)"
   ]
  },
  {
   "cell_type": "code",
   "execution_count": null,
   "metadata": {},
   "outputs": [],
   "source": [
    "HTML(\"\"\"\n",
    "<video width=\"960\" height=\"540\" controls>\n",
    "  <source src=\"{0}\">\n",
    "</video>\n",
    "\"\"\".format(output5))"
   ]
  },
  {
   "cell_type": "code",
   "execution_count": null,
   "metadata": {},
   "outputs": [],
   "source": [
    "output6 = 'A99Munich_long_output_83-173.mp4'\n",
    "clip1 = VideoFileClip(\"test_videos/A99Munich_long.mp4\").subclip(83,173)\n",
    "clip = clip1.fl_image(process_image) #NOTE: this function expects color images\n",
    "%time clip.write_videofile(output6, audio=False)"
   ]
  },
  {
   "cell_type": "code",
   "execution_count": null,
   "metadata": {},
   "outputs": [],
   "source": [
    "output7 = 'A99Munich_long_output_108-173.mp4'\n",
    "clip1 = VideoFileClip(\"test_videos/A99Munich_long.mp4\").subclip(108,173)\n",
    "clip = clip1.fl_image(process_image) #NOTE: this function expects color images\n",
    "%time clip.write_videofile(output7, audio=False)"
   ]
  },
  {
   "cell_type": "code",
   "execution_count": null,
   "metadata": {},
   "outputs": [],
   "source": []
  },
  {
   "cell_type": "markdown",
   "metadata": {},
   "source": [
    "## Issues Discussion"
   ]
  },
  {
   "cell_type": "markdown",
   "metadata": {},
   "source": [
    "### Description of Problems"
   ]
  },
  {
   "cell_type": "markdown",
   "metadata": {},
   "source": [
    "### Solutions to the problems"
   ]
  }
 ],
 "metadata": {
  "anaconda-cloud": {},
  "kernelspec": {
   "display_name": "Python 3",
   "language": "python",
   "name": "python3"
  },
  "language_info": {
   "codemirror_mode": {
    "name": "ipython",
    "version": 3
   },
   "file_extension": ".py",
   "mimetype": "text/x-python",
   "name": "python",
   "nbconvert_exporter": "python",
   "pygments_lexer": "ipython3",
   "version": "3.7.8"
  }
 },
 "nbformat": 4,
 "nbformat_minor": 1
}
